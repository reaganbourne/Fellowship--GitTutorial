{
 "cells": [
  {
   "cell_type": "markdown",
   "id": "cce8c983",
   "metadata": {},
   "source": [
    "# Git_Tutorial12\n",
    "**Git URL Protocols**  \n",
    "There are 3 different GIT URL protocols that are available for remote repository connectivity. Here is some information about them:   \n",
    "\n",
    "> 1) *HTTPS:*   \n",
    "> - HTTPS is a protocol that allows secure communication across the internet \n",
    "> - Using HTTPS URLs for remote repositories is fairly easy to set up, since it only requires your GitHub username and password\n",
    "> - HTTPS URLs are typically recommended for beginners, since they do not require any additional configuration   \n",
    "> - example: https://github.com/username/repository.git   \n",
    "> 2) *SSH:*     \n",
    "> - SSH is a network protocol that provides a secure way to access and communicate with remote servers  \n",
    "> - Using SSH URLs for remote repositories requires additional setup, which is generating and adding a SSH key to your GitHub account  \n",
    "> - However, once this key is set up, using SSH URLs has the advantage of secure communication, without needing to enter your username and password repeatedly\n",
    "> - example: git@github.com:username/repository.git   \n",
    "> 3) *GIT:*   \n",
    "> - GIT protocol is a protocol that is unique to Git\n",
    "> - This protocol does not provide any encryption or authentication mechanisms on its own, so it is typically only used in trusted and local networks\n",
    "> - The other URL protocols are typically more popular\n",
    "> - example: git://hostname/path/to/repository.git\n",
    "<!-- section -->"
   ]
  }
 ],
 "metadata": {
  "kernelspec": {
   "display_name": "Python 3 (ipykernel)",
   "language": "python",
   "name": "python3"
  },
  "language_info": {
   "codemirror_mode": {
    "name": "ipython",
    "version": 3
   },
   "file_extension": ".py",
   "mimetype": "text/x-python",
   "name": "python",
   "nbconvert_exporter": "python",
   "pygments_lexer": "ipython3",
   "version": "3.10.12"
  }
 },
 "nbformat": 4,
 "nbformat_minor": 5
}