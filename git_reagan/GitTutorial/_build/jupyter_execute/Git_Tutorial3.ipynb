{
 "cells": [
  {
   "cell_type": "markdown",
   "id": "e8c62aa6",
   "metadata": {},
   "source": [
    "# Git_Tutorial3\n",
    "**Lets go over some vocabulary** \n",
    "> - **Working Directory:** the place where you are currently editing your files\n",
    "> - **Staging Area:** a place between your working directory and the repository, where you prepare and select the changes you want to include in the next commit\n",
    "> - **Repository (repo):** a storage location where your Git project is located, a repository can exist both on your local machine (local repository) and on Github (remote repository)\n",
    "> - **Branch:** a separate line of development that allows you to work on a section of code independently, without affecting the main code of your project\n",
    "> - **Merge:** combining changes from one branch into another, which is used to bring together the work done on different branches\n",
    "> - **Conflict:** a situation where Git cannot automatically merge changes and requires manual fixes\n",
    "> - **Clone:** creating a local copy of a Git repository\n",
    "> - **Fork:** creating a personal copy of the repository under your GitHub account  \n",
    "\n",
    "**The difference between fork and clone:**  \n",
    "***Forking*** is typically used when you want to contribute to a project that is hosted on GitHub. When you fork a repository, you create a personal copy of the repository under your GitHub account, in which you can experiment and make changes without altering the original project. However, if you wish to propose changes, you can create a pull request to request that the original project owner incorporate your changes into the main repository.\n",
    "\n",
    "***Cloning*** is typically used when you want to copy another repository to your local machine, to work independently or contribute to it. When you clone a repository, you get an exact copy of the entire project (including branches and commit history). Cloning is a local operation, and any changes you make will not affect the original repository, unless you explicitly push your changes back"
   ]
  },
  {
   "cell_type": "markdown",
   "id": "8bcecdf1",
   "metadata": {},
   "source": [
    "**Git Basic Workflow**\n",
    "1) Initialize a Git repository\n",
    "2) Modify a file from your working directory\n",
    "3) Add the file(s) to the staging area\n",
    "4) Commit the files, which moves them from the staging area\n",
    "5) Create branches for different features/fixes\n",
    "6) Combine changes using merge or pull requests\n",
    "7) Link to GitHub and push/pull to store the changes permanently to the GitHub repository\n",
    "8) Collaborate, review changes, and propose pull requests with GitHub and repeat the process"
   ]
  },
  {
   "cell_type": "markdown",
   "id": "432634f5",
   "metadata": {},
   "source": [
    "![BasicGitWorkflow](git-workflow-1.png) \n",
    "<!-- section -->"
   ]
  }
 ],
 "metadata": {
  "kernelspec": {
   "display_name": "Python 3 (ipykernel)",
   "language": "python",
   "name": "python3"
  },
  "language_info": {
   "codemirror_mode": {
    "name": "ipython",
    "version": 3
   },
   "file_extension": ".py",
   "mimetype": "text/x-python",
   "name": "python",
   "nbconvert_exporter": "python",
   "pygments_lexer": "ipython3",
   "version": "3.10.12"
  }
 },
 "nbformat": 4,
 "nbformat_minor": 5
}