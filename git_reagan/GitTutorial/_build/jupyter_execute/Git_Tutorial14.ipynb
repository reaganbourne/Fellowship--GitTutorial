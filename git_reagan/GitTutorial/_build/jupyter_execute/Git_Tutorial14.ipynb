{
 "cells": [
  {
   "cell_type": "markdown",
   "id": "064036e2",
   "metadata": {},
   "source": [
    "# Git_Tutorial14\n",
    "What is the command to show changes between the working directory and staging area? (The unstaged changes)"
   ]
  },
  {
   "cell_type": "markdown",
   "id": "5d0a2ff0",
   "metadata": {},
   "source": [
    "```{admonition} Click to show solution\n",
    ":class: dropdown\n",
    "git diff\n",
    "<!-- section -->"
   ]
  }
 ],
 "metadata": {
  "kernelspec": {
   "display_name": "Python 3 (ipykernel)",
   "language": "python",
   "name": "python3"
  },
  "language_info": {
   "codemirror_mode": {
    "name": "ipython",
    "version": 3
   },
   "file_extension": ".py",
   "mimetype": "text/x-python",
   "name": "python",
   "nbconvert_exporter": "python",
   "pygments_lexer": "ipython3",
   "version": "3.10.12"
  }
 },
 "nbformat": 4,
 "nbformat_minor": 5
}